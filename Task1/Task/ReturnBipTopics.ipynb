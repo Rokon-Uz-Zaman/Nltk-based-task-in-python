{
 "cells": [
  {
   "cell_type": "code",
   "execution_count": 103,
   "metadata": {},
   "outputs": [],
   "source": [
    "import pandas as pd"
   ]
  },
  {
   "cell_type": "code",
   "execution_count": 104,
   "metadata": {},
   "outputs": [],
   "source": [
    "df = pd.read_csv('dataframe.csv')"
   ]
  },
  {
   "cell_type": "code",
   "execution_count": 105,
   "metadata": {},
   "outputs": [
    {
     "name": "stdout",
     "output_type": "stream",
     "text": [
      "210\n"
     ]
    }
   ],
   "source": [
    "#Function to collect all possibilities of BipTopics \n",
    "#the output of this function will be used as input to Classifier as label\n",
    "\n",
    "def ReturnBip():\n",
    "    frame = df['bip:topics']\n",
    "    df[\"bip:topics\"]= df[\"bip:topics\"].str.split(\",\", n = 1, expand = True)\n",
    "    single = df[\"bip:topics\"]\n",
    "    single.str.split(\"[\",n=1,expand = True)\n",
    "    single.str.split(\"']\",n=1,expand = True)\n",
    "    single.str.split(\"[\",n=0,expand = True)\n",
    "    single.tolist()\n",
    "    single = single.map(lambda x: x.lstrip(\"['\").rstrip(\"']'\")).str.lower()\n",
    "    list = []\n",
    "    for i in single:\n",
    "        if i not in list:\n",
    "            list.append(i)\n",
    "    return list\n",
    "\n",
    "bip = ReturnBipTopics()\n",
    "print(len(bip))\n",
    "\n",
    "\n"
   ]
  },
  {
   "cell_type": "code",
   "execution_count": null,
   "metadata": {},
   "outputs": [],
   "source": []
  },
  {
   "cell_type": "code",
   "execution_count": null,
   "metadata": {},
   "outputs": [],
   "source": []
  },
  {
   "cell_type": "code",
   "execution_count": null,
   "metadata": {},
   "outputs": [],
   "source": []
  },
  {
   "cell_type": "code",
   "execution_count": null,
   "metadata": {},
   "outputs": [],
   "source": []
  }
 ],
 "metadata": {
  "kernelspec": {
   "display_name": "Python 3",
   "language": "python",
   "name": "python3"
  }
 },
 "nbformat": 4,
 "nbformat_minor": 2
}
