{
 "cells": [
  {
   "cell_type": "code",
   "execution_count": 1,
   "metadata": {},
   "outputs": [],
   "source": [
    "import xml.etree.ElementTree as et\n",
    "import pandas as pd\n",
    "import xml.etree.ElementTree as ET\n",
    "from IPython.display import display\n",
    "import os"
   ]
  },
  {
   "cell_type": "code",
   "execution_count": 3,
   "metadata": {},
   "outputs": [],
   "source": [
    "#Function to return DataFrames from XML folder\n",
    "#Converter to convert data from XML to Csv file\n",
    "#Finding total tags in a document\n",
    "#tags = {elem.tag for elem in xmlTree.iter()}\n",
    "def XML2DataFrame(dir): \n",
    "    arr = []\n",
    "    arr = os.listdir('Data')\n",
    "    elemList = []     \n",
    "    #for rows of dataFrame\n",
    "    rows = []         \n",
    "    #column names for dataFrame\n",
    "    df_cols = [\"Headline\", \"Text\", \"bip:topics\",\"dc.date.published\", \"ItemID\", \"XMLFileName\"] \n",
    "    #Creating dataFrame with col names as df_cols\n",
    "    out_df = pd.DataFrame(columns = df_cols)\n",
    "    #Iterating through all XML files to store them in DataFrame\n",
    "    for i in range(0,48300):\n",
    "        xmlTree = ET.parse(dir+arr[i])\n",
    "        root = xmlTree.getroot()\n",
    "        headlines = root.find(\"headline\").text\n",
    "        date_published = root.attrib['date']\n",
    "        item_id = root.attrib['itemid']\n",
    "        XMLFileName = item_id + \"newsML.xml\"\n",
    "        #Extracting codes for bip:topic\n",
    "        bip_topic_code = []\n",
    "        meta = root.find('metadata').find('codes').findall('code')\n",
    "        length_code = len(meta)\n",
    "        for i in range(length_code):\n",
    "            bip_topic_code.append(meta[i].get('code'))\n",
    "        #Extracting text\n",
    "        textList = []\n",
    "        text = \"\"\n",
    "        a = root.find('text').findall('p')\n",
    "        for i in range(len(a)):\n",
    "            textList.append(a[i].text)     \n",
    "        for ele in textList:  \n",
    "           text += ele   \n",
    "        #df_cols = [\"Headline\", \"Text\", \"bip:topics\",\"dc.date.published\", \"ItemID\", \"XMLFileName\"]\n",
    "   \n",
    "        rows.append({\"XMLFileName\":XMLFileName , \"ItemID\":item_id , \"dc.date.published\":date_published,\n",
    "                \"bip:topics\":bip_topic_code,\"Headline\":headlines,\"Text\":text})\n",
    "        #out_df = pd.DataFrame(rows, columns = df_cols)\n",
    "    \n",
    "    out_df = pd.DataFrame(rows, columns = df_cols)\n",
    "    return out_df\n",
    "df = XML2DataFrame('Data/')\n",
    "# if file does not exist write header \n",
    "if not os.path.isfile('dataframe.csv'):\n",
    "   df.to_csv('dataframe.csv', header=True)\n",
    "else: # else it exists so append without writing the header\n",
    "   df.to_csv('dataframe.csv', mode='a', header=False)\n",
    "#export_csv = df.to_csv ('dataframe.csv', index = None, header=True)\n",
    "#print(display(df.style))"
   ]
  },
  {
   "cell_type": "code",
   "execution_count": null,
   "metadata": {},
   "outputs": [],
   "source": []
  },
  {
   "cell_type": "code",
   "execution_count": null,
   "metadata": {},
   "outputs": [],
   "source": []
  },
  {
   "cell_type": "code",
   "execution_count": null,
   "metadata": {},
   "outputs": [],
   "source": []
  },
  {
   "cell_type": "code",
   "execution_count": null,
   "metadata": {},
   "outputs": [],
   "source": []
  }
 ],
 "metadata": {
  "kernelspec": {
   "display_name": "Python 3",
   "language": "python",
   "name": "python3"
  },
  "language_info": {
   "codemirror_mode": {
    "name": "ipython",
    "version": 3
   },
   "file_extension": ".py",
   "mimetype": "text/x-python",
   "name": "python",
   "nbconvert_exporter": "python",
   "pygments_lexer": "ipython3",
   "version": "3.7.3"
  }
 },
 "nbformat": 4,
 "nbformat_minor": 2
}
